{
 "cells": [
  {
   "cell_type": "markdown",
   "metadata": {},
   "source": [
    "# Exploración"
   ]
  },
  {
   "cell_type": "code",
   "execution_count": 1,
   "metadata": {},
   "outputs": [
    {
     "name": "stdout",
     "output_type": "stream",
     "text": [
      "data\t\t  Reuters21578-Apte-90Cat.tar.gz  tarea3.pdf\r\n",
      "requirements.txt  tarea3.ipynb\r\n"
     ]
    }
   ],
   "source": [
    "!ls"
   ]
  },
  {
   "cell_type": "code",
   "execution_count": 2,
   "metadata": {},
   "outputs": [
    {
     "name": "stdout",
     "output_type": "stream",
     "text": [
      "test  training\r\n"
     ]
    }
   ],
   "source": [
    "!ls data"
   ]
  },
  {
   "cell_type": "markdown",
   "metadata": {},
   "source": [
    "## Training"
   ]
  },
  {
   "cell_type": "code",
   "execution_count": 3,
   "metadata": {},
   "outputs": [
    {
     "name": "stdout",
     "output_type": "stream",
     "text": [
      "acq\t     cpu\t    income\t  naphtha     rape-oil\t       sun-oil\r\n",
      "alum\t     crude\t    instal-debt   nat-gas     rapeseed\t       sunseed\r\n",
      "barley\t     dfl\t    interest\t  nickel      reserves\t       tea\r\n",
      "bop\t     dlr\t    ipi\t\t  nkr\t      retail\t       tin\r\n",
      "carcass      dmk\t    iron-steel\t  nzdlr       rice\t       trade\r\n",
      "castor-oil   earn\t    jet\t\t  oat\t      rubber\t       unknown\r\n",
      "cocoa\t     fuel\t    jobs\t  oilseed     rye\t       veg-oil\r\n",
      "coconut      gas\t    l-cattle\t  orange      ship\t       wheat\r\n",
      "coconut-oil  gnp\t    lead\t  palladium   silver\t       wpi\r\n",
      "coffee\t     gold\t    lei\t\t  palmkernel  sorghum\t       yen\r\n",
      "copper\t     grain\t    lin-oil\t  palm-oil    soybean\t       zinc\r\n",
      "copra-cake   groundnut\t    livestock\t  pet-chem    soy-meal\r\n",
      "corn\t     groundnut-oil  lumber\t  platinum    soy-oil\r\n",
      "cotton\t     heat\t    meal-feed\t  potato      strategic-metal\r\n",
      "cotton-oil   hog\t    money-fx\t  propane     sugar\r\n",
      "cpi\t     housing\t    money-supply  rand\t      sun-meal\r\n"
     ]
    }
   ],
   "source": [
    "!ls data/training/"
   ]
  },
  {
   "cell_type": "markdown",
   "metadata": {},
   "source": [
    "## Dataset: Acquisition "
   ]
  },
  {
   "cell_type": "code",
   "execution_count": 4,
   "metadata": {},
   "outputs": [
    {
     "name": "stdout",
     "output_type": "stream",
     "text": [
      "0000005  0001151  0002088  0003205  0004272  0005419  0006378  0007598\t0008473\r\n",
      "0000007  0001152  0002090  0003210  0004284  0005428  0006384  0007601\t0008483\r\n",
      "0000027  0001160  0002093  0003211  0004300  0005436  0006388  0007617\t0008493\r\n",
      "0000028  0001166  0002095  0003237  0004306  0005441  0006393  0007618\t0008497\r\n",
      "0000044  0001169  0002102  0003241  0004311  0005442  0006394  0007627\t0008510\r\n",
      "0000065  0001171  0002107  0003260  0004319  0005444  0006396  0007630\t0008513\r\n",
      "0000078  0001183  0002112  0003284  0004323  0005446  0006425  0007637\t0008514\r\n",
      "0000087  0001204  0002117  0003294  0004329  0005448  0006428  0007638\t0008527\r\n",
      "0000090  0001256  0002120  0003299  0004330  0005449  0006431  0007641\t0008541\r\n",
      "0000095  0001257  0002122  0003301  0004345  0005457  0006446  0007642\t0008545\r\n",
      "0000096  0001260  0002123  0003310  0004363  0005460  0006474  0007653\t0008549\r\n",
      "0000112  0001262  0002124  0003312  0004364  0005461  0006489  0007656\t0008550\r\n",
      "0000114  0001271  0002125  0003332  0004365  0005462  0006492  0007657\t0008562\r\n",
      "0000117  0001273  0002131  0003338  0004368  0005463  0006496  0007659\t0008582\r\n",
      "0000132  0001278  0002132  0003339  0004389  0005465  0006499  0007665\t0008587\r\n",
      "0000133  0001281  0002139  0003344  0004398  0005466  0006502  0007669\t0008588\r\n",
      "0000143  0001287  0002140  0003348  0004401  0005469  0006505  0007671\t0008593\r\n",
      "0000185  0001296  0002141  0003366  0004404  0005470  0006509  0007674\t0008594\r\n",
      "0000209  0001303  0002142  0003372  0004408  0005476  0006510  0007676\t0008595\r\n",
      "0000212  0001308  0002143  0003385  0004422  0005483  0006514  0007677\t0008600\r\n",
      "0000214  0001316  0002149  0003387  0004428  0005489  0006525  0007683\t0008610\r\n",
      "0000224  0001320  0002150  0003388  0004432  0005495  0006531  0007684\t0008624\r\n",
      "0000234  0001321  0002155  0003389  0004440  0005498  0006533  0007688\t0008625\r\n",
      "0000236  0001326  0002157  0003391  0004452  0005501  0006535  0007696\t0008626\r\n",
      "0000254  0001329  0002161  0003392  0004458  0005503  0006541  0007702\t0008630\r\n",
      "0000255  0001333  0002163  0003398  0004467  0005505  0006544  0007707\t0008638\r\n",
      "0000256  0001334  0002165  0003401  0004471  0005508  0006560  0007710\t0008642\r\n",
      "0000258  0001343  0002168  0003402  0004472  0005524  0006566  0007711\t0008645\r\n",
      "0000259  0001349  0002170  0003409  0004474  0005528  0006572  0007712\t0008652\r\n",
      "0000260  0001373  0002174  0003418  0004476  0005529  0006574  0007716\t0008654\r\n",
      "0000262  0001375  0002180  0003420  0004481  0005530  0006582  0007717\t0008661\r\n",
      "0000265  0001380  0002190  0003430  0004482  0005531  0006587  0007721\t0008667\r\n",
      "0000268  0001384  0002193  0003433  0004483  0005535  0006589  0007725\t0008669\r\n",
      "0000269  0001392  0002202  0003436  0004487  0005537  0006600  0007726\t0008670\r\n",
      "0000271  0001393  0002210  0003439  0004500  0005548  0006601  0007727\t0008673\r\n",
      "0000275  0001396  0002215  0003440  0004507  0005549  0006608  0007728\t0008674\r\n",
      "0000279  0001397  0002218  0003445  0004511  0005550  0006611  0007730\t0008683\r\n",
      "0000281  0001407  0002220  0003449  0004519  0005552  0006619  0007731\t0008696\r\n",
      "0000282  0001410  0002222  0003451  0004527  0005556  0006620  0007734\t0008717\r\n",
      "0000289  0001412  0002225  0003462  0004528  0005571  0006626  0007745\t0008722\r\n",
      "0000298  0001415  0002226  0003474  0004529  0005574  0006634  0007755\t0008739\r\n",
      "0000304  0001417  0002228  0003491  0004531  0005575  0006635  0007759\t0008746\r\n",
      "0000309  0001420  0002231  0003517  0004538  0005577  0006637  0007761\t0008749\r\n",
      "0000313  0001428  0002234  0003519  0004549  0005578  0006638  0007764\t0008760\r\n",
      "0000314  0001431  0002238  0003520  0004557  0005579  0006644  0007769\t0008768\r\n",
      "0000315  0001441  0002239  0003521  0004558  0005580  0006653  0007772\t0008776\r\n",
      "0000318  0001446  0002240  0003528  0004573  0005587  0006662  0007776\t0008781\r\n",
      "0000319  0001450  0002242  0003530  0004577  0005592  0006665  0007778\t0008782\r\n",
      "0000333  0001452  0002243  0003532  0004604  0005593  0006678  0007782\t0008787\r\n",
      "0000336  0001462  0002246  0003535  0004612  0005598  0006684  0007784\t0008793\r\n",
      "0000337  0001463  0002247  0003539  0004624  0005599  0006686  0007790\t0008805\r\n",
      "0000339  0001464  0002249  0003540  0004631  0005602  0006690  0007794\t0008811\r\n",
      "0000352  0001478  0002250  0003543  0004632  0005606  0006691  0007795\t0008814\r\n",
      "0000353  0001492  0002251  0003544  0004643  0005613  0006699  0007805\t0008821\r\n",
      "0000354  0001499  0002252  0003548  0004644  0005620  0006709  0007813\t0008825\r\n",
      "0000357  0001500  0002253  0003562  0004648  0005621  0006710  0007819\t0008830\r\n",
      "0000358  0001501  0002257  0003575  0004653  0005623  0006713  0007820\t0008844\r\n",
      "0000378  0001526  0002258  0003586  0004654  0005636  0006722  0007822\t0008870\r\n",
      "0000388  0001532  0002283  0003604  0004661  0005660  0006726  0007824\t0008872\r\n",
      "0000390  0001542  0002299  0003612  0004668  0005665  0006730  0007826\t0008878\r\n",
      "0000392  0001549  0002312  0003622  0004675  0005670  0006733  0007827\t0008881\r\n",
      "0000393  0001558  0002361  0003627  0004677  0005682  0006742  0007837\t0008886\r\n",
      "0000395  0001564  0002371  0003653  0004678  0005688  0006752  0007848\t0008894\r\n",
      "0000399  0001566  0002375  0003664  0004680  0005690  0006761  0007857\t0008906\r\n",
      "0000400  0001567  0002378  0003666  0004684  0005693  0006762  0007865\t0008913\r\n",
      "0000406  0001568  0002388  0003667  0004686  0005720  0006772  0007866\t0008921\r\n",
      "0000408  0001580  0002389  0003670  0004689  0005754  0006776  0007872\t0008929\r\n",
      "0000428  0001585  0002392  0003672  0004695  0005755  0006782  0007875\t0008941\r\n",
      "0000430  0001588  0002397  0003677  0004701  0005764  0006784  0007893\t0008942\r\n",
      "0000433  0001592  0002400  0003679  0004705  0005767  0006785  0007894\t0008944\r\n",
      "0000434  0001596  0002408  0003680  0004734  0005769  0006787  0007896\t0008949\r\n",
      "0000436  0001602  0002422  0003683  0004751  0005771  0006789  0007899\t0008950\r\n",
      "0000441  0001606  0002431  0003692  0004752  0005772  0006790  0007905\t0008953\r\n",
      "0000442  0001608  0002443  0003698  0004766  0005788  0006801  0007906\t0008961\r\n",
      "0000444  0001612  0002449  0003700  0004767  0005792  0006804  0007908\t0009000\r\n",
      "0000446  0001613  0002468  0003701  0004770  0005795  0006810  0007910\t0009007\r\n",
      "0000447  0001616  0002479  0003704  0004771  0005805  0006842  0007916\t0009012\r\n",
      "0000449  0001618  0002501  0003709  0004774  0005808  0006843  0007922\t0009033\r\n",
      "0000450  0001621  0002505  0003716  0004776  0005809  0006847  0007926\t0009050\r\n",
      "0000453  0001624  0002533  0003717  0004777  0005813  0006851  0007931\t0009053\r\n",
      "0000456  0001629  0002536  0003719  0004778  0005817  0006864  0007934\t0009058\r\n",
      "0000457  0001630  0002539  0003723  0004788  0005842  0006883  0007936\t0009062\r\n",
      "0000460  0001640  0002551  0003727  0004790  0005859  0006906  0007937\t0009073\r\n",
      "0000463  0001646  0002558  0003735  0004794  0005860  0006909  0007940\t0009074\r\n",
      "0000464  0001648  0002567  0003741  0004797  0005861  0006915  0007955\t0009076\r\n",
      "0000466  0001650  0002571  0003753  0004798  0005863  0006923  0007966\t0009080\r\n",
      "0000467  0001651  0002582  0003754  0004799  0005864  0006931  0007969\t0009089\r\n",
      "0000476  0001654  0002587  0003760  0004811  0005868  0006935  0007970\t0009094\r\n",
      "0000480  0001655  0002589  0003762  0004814  0005869  0006942  0007978\t0009095\r\n",
      "0000488  0001665  0002609  0003778  0004815  0005870  0006950  0007982\t0009096\r\n",
      "0000498  0001670  0002616  0003783  0004823  0005872  0006954  0007986\t0009102\r\n",
      "0000501  0001673  0002620  0003784  0004824  0005878  0006967  0007987\t0009105\r\n",
      "0000505  0001693  0002625  0003794  0004825  0005883  0006969  0007991\t0009120\r\n",
      "0000508  0001695  0002640  0003801  0004826  0005889  0006983  0007998\t0009122\r\n",
      "0000509  0001696  0002647  0003803  0004840  0005902  0006986  0008003\t0009132\r\n",
      "0000510  0001700  0002651  0003811  0004844  0005903  0006988  0008006\t0009138\r\n",
      "0000512  0001703  0002655  0003829  0004851  0005904  0006990  0008011\t0009144\r\n",
      "0000531  0001704  0002660  0003836  0004852  0005906  0006991  0008013\t0009145\r\n",
      "0000548  0001708  0002684  0003837  0004853  0005907  0006993  0008030\t0009148\r\n",
      "0000573  0001715  0002688  0003839  0004862  0005909  0006994  0008036\t0009152\r\n",
      "0000578  0001737  0002690  0003849  0004867  0005911  0007004  0008043\t0009155\r\n",
      "0000580  0001746  0002694  0003867  0004873  0005925  0007007  0008052\t0009156\r\n",
      "0000595  0001754  0002696  0003892  0004923  0005927  0007011  0008053\t0009158\r\n",
      "0000597  0001757  0002698  0003893  0004926  0005946  0007024  0008055\t0009163\r\n",
      "0000606  0001778  0002704  0003900  0004933  0005947  0007029  0008056\t0009168\r\n",
      "0000608  0001782  0002710  0003901  0004934  0005955  0007030  0008061\t0009169\r\n",
      "0000611  0001783  0002711  0003905  0004936  0005957  0007031  0008067\t0009178\r\n",
      "0000620  0001793  0002716  0003917  0004937  0005959  0007034  0008070\t0009179\r\n",
      "0000635  0001794  0002725  0003923  0004944  0005961  0007048  0008073\t0009182\r\n",
      "0000640  0001800  0002737  0003924  0004951  0005974  0007055  0008083\t0009183\r\n",
      "0000643  0001803  0002738  0003929  0004954  0005978  0007057  0008084\t0009189\r\n",
      "0000648  0001805  0002740  0003934  0004972  0005979  0007065  0008087\t0009192\r\n",
      "0000669  0001806  0002746  0003936  0004974  0005981  0007069  0008089\t0009198\r\n",
      "0000670  0001809  0002758  0003939  0004986  0005988  0007072  0008090\t0009200\r\n",
      "0000686  0001814  0002759  0003940  0004987  0005990  0007077  0008093\t0009203\r\n",
      "0000690  0001815  0002764  0003941  0004988  0005996  0007082  0008094\t0009205\r\n",
      "0000691  0001817  0002765  0003944  0005002  0005998  0007083  0008095\t0009206\r\n",
      "0000700  0001819  0002766  0003945  0005007  0005999  0007086  0008096\t0009210\r\n",
      "0000704  0001821  0002771  0003946  0005016  0006035  0007088  0008102\t0009215\r\n",
      "0000722  0001831  0002796  0003947  0005028  0006037  0007092  0008112\t0009227\r\n",
      "0000727  0001839  0002797  0003955  0005045  0006038  0007098  0008114\t0009235\r\n",
      "0000730  0001854  0002804  0003959  0005059  0006047  0007099  0008119\t0009243\r\n",
      "0000757  0001864  0002811  0003961  0005060  0006075  0007108  0008132\t0009249\r\n",
      "0000761  0001870  0002813  0003969  0005063  0006093  0007111  0008135\t0009252\r\n",
      "0000765  0001871  0002816  0003970  0005067  0006097  0007115  0008141\t0009257\r\n",
      "0000768  0001872  0002821  0003973  0005070  0006098  0007130  0008142\t0009263\r\n",
      "0000770  0001874  0002826  0003982  0005076  0006099  0007131  0008143\t0009269\r\n",
      "0000774  0001878  0002860  0003988  0005078  0006107  0007137  0008144\t0009270\r\n",
      "0000778  0001880  0002875  0003993  0005083  0006112  0007141  0008155\t0009274\r\n",
      "0000780  0001885  0002881  0003994  0005099  0006114  0007150  0008159\t0009275\r\n",
      "0000806  0001891  0002890  0004002  0005103  0006118  0007154  0008182\t0009276\r\n",
      "0000808  0001893  0002891  0004003  0005111  0006125  0007155  0008185\t0009277\r\n",
      "0000814  0001894  0002893  0004005  0005115  0006129  0007169  0008196\t0009278\r\n",
      "0000815  0001900  0002897  0004006  0005126  0006140  0007181  0008218\t0009283\r\n",
      "0000822  0001904  0002901  0004007  0005130  0006145  0007186  0008228\t0009284\r\n",
      "0000832  0001905  0002902  0004008  0005131  0006147  0007187  0008242\t0009286\r\n",
      "0000844  0001908  0002904  0004013  0005135  0006156  0007189  0008246\t0009287\r\n",
      "0000857  0001909  0002906  0004024  0005136  0006159  0007198  0008247\t0009288\r\n",
      "0000896  0001911  0002908  0004031  0005137  0006160  0007244  0008249\t0009319\r\n",
      "0000897  0001912  0002920  0004046  0005143  0006161  0007245  0008251\t0009339\r\n",
      "0000904  0001913  0002929  0004084  0005147  0006170  0007247  0008255\t0009365\r\n",
      "0000907  0001915  0002931  0004095  0005159  0006188  0007264  0008260\t0009388\r\n",
      "0000936  0001918  0002934  0004096  0005164  0006189  0007275  0008261\t0009392\r\n",
      "0000938  0001954  0002936  0004097  0005173  0006195  0007286  0008281\t0009393\r\n",
      "0000947  0001963  0002946  0004104  0005191  0006198  0007293  0008282\t0009403\r\n",
      "0000950  0001965  0002948  0004109  0005204  0006205  0007314  0008284\t0009405\r\n",
      "0000953  0001972  0002951  0004110  0005211  0006208  0007318  0008296\t0009407\r\n",
      "0000956  0001974  0002952  0004112  0005215  0006209  0007327  0008300\t0009408\r\n",
      "0000990  0001979  0002953  0004117  0005216  0006210  0007331  0008304\t0009421\r\n",
      "0001002  0001982  0002961  0004122  0005221  0006224  0007334  0008309\t0009422\r\n",
      "0001005  0001983  0002979  0004124  0005225  0006227  0007338  0008310\t0009444\r\n",
      "0001007  0001985  0002983  0004134  0005227  0006242  0007343  0008313\t0009452\r\n",
      "0001016  0001986  0002984  0004137  0005232  0006244  0007344  0008317\t0009456\r\n",
      "0001020  0001995  0002986  0004143  0005235  0006249  0007349  0008321\t0009460\r\n",
      "0001028  0001997  0002999  0004144  0005238  0006250  0007352  0008325\t0009461\r\n",
      "0001031  0002000  0003001  0004145  0005244  0006251  0007358  0008328\t0009465\r\n",
      "0001032  0002002  0003007  0004149  0005265  0006257  0007359  0008333\t0009470\r\n",
      "0001035  0002008  0003012  0004163  0005273  0006266  0007361  0008339\t0009476\r\n",
      "0001044  0002009  0003016  0004164  0005280  0006267  0007364  0008345\t0009484\r\n",
      "0001053  0002010  0003025  0004166  0005289  0006269  0007368  0008348\t0009489\r\n",
      "0001056  0002012  0003028  0004173  0005309  0006283  0007374  0008351\t0009498\r\n",
      "0001057  0002019  0003041  0004182  0005311  0006293  0007391  0008354\t0009502\r\n",
      "0001058  0002021  0003047  0004193  0005317  0006294  0007395  0008355\t0009508\r\n",
      "0001060  0002022  0003048  0004196  0005318  0006296  0007403  0008356\t0009512\r\n",
      "0001063  0002025  0003050  0004197  0005319  0006306  0007414  0008359\t0009515\r\n",
      "0001065  0002029  0003067  0004199  0005331  0006313  0007422  0008369\t0009518\r\n",
      "0001066  0002030  0003071  0004201  0005338  0006315  0007425  0008371\t0009519\r\n",
      "0001070  0002031  0003074  0004215  0005340  0006322  0007430  0008372\t0009530\r\n",
      "0001075  0002032  0003086  0004217  0005344  0006327  0007438  0008375\t0009541\r\n",
      "0001076  0002035  0003094  0004222  0005347  0006331  0007442  0008385\t0009547\r\n",
      "0001088  0002039  0003108  0004225  0005352  0006332  0007444  0008389\t0009549\r\n",
      "0001095  0002043  0003119  0004226  0005357  0006337  0007446  0008390\t0009551\r\n",
      "0001099  0002049  0003128  0004227  0005362  0006339  0007452  0008394\t0009554\r\n",
      "0001101  0002052  0003130  0004234  0005364  0006342  0007506  0008395\t0009556\r\n",
      "0001102  0002054  0003140  0004237  0005368  0006344  0007508  0008398\t0009557\r\n",
      "0001103  0002063  0003147  0004240  0005369  0006345  0007521  0008400\t0009565\r\n",
      "0001112  0002065  0003158  0004242  0005377  0006354  0007523  0008428\t0009576\r\n",
      "0001120  0002072  0003159  0004243  0005381  0006358  0007538  0008433\t0009584\r\n",
      "0001127  0002073  0003181  0004245  0005384  0006361  0007545  0008438\r\n",
      "0001128  0002074  0003186  0004247  0005391  0006362  0007562  0008450\r\n",
      "0001129  0002076  0003188  0004249  0005401  0006367  0007584  0008451\r\n",
      "0001134  0002083  0003189  0004262  0005405  0006372  0007595  0008463\r\n",
      "0001137  0002084  0003197  0004263  0005409  0006376  0007596  0008464\r\n",
      "0001141  0002087  0003198  0004265  0005417  0006377  0007597  0008465\r\n"
     ]
    }
   ],
   "source": [
    "!ls data/training/acq "
   ]
  },
  {
   "cell_type": "markdown",
   "metadata": {},
   "source": [
    "## Algún archivo"
   ]
  },
  {
   "cell_type": "code",
   "execution_count": 5,
   "metadata": {},
   "outputs": [
    {
     "name": "stdout",
     "output_type": "stream",
     "text": [
      "\r\n",
      "\r",
      "\r\n",
      "COMPUTER TERMINAL SYSTEMS <CPML> COMPLETES SALE\r",
      "\r\n",
      "\r\n",
      "     COMMACK, N.Y., Feb 26 - Computer Terminal Systems Inc said\r",
      "\r\n",
      "it has completed the sale of 200,000 shares of its common\r",
      "\r\n",
      "stock, and warrants to acquire an additional one mln shares, to\r",
      "\r\n",
      "<Sedio N.V.> of Lugano, Switzerland for 50,000 dlrs.\r",
      "\r\n",
      "    The company said the warrants are exercisable for five\r",
      "\r\n",
      "years at a purchase price of .125 dlrs per share.\r",
      "\r\n",
      "    Computer Terminal said Sedio also has the right to buy\r",
      "\r\n",
      "additional shares and increase its total holdings up to 40 pct\r",
      "\r\n",
      "of the Computer Terminal's outstanding common stock under\r",
      "\r\n",
      "certain circumstances involving change of control at the\r",
      "\r\n",
      "company.\r",
      "\r\n",
      "    The company said if the conditions occur the warrants would\r",
      "\r\n",
      "be exercisable at a price equal to 75 pct of its common stock's\r",
      "\r\n",
      "market price at the time, not to exceed 1.50 dlrs per share.\r",
      "\r\n",
      "    Computer Terminal also said it sold the technolgy rights to\r",
      "\r\n",
      "its Dot Matrix impact technology, including any future\r",
      "\r\n",
      "improvements, to <Woodco Inc> of Houston, Tex. for 200,000\r",
      "\r\n",
      "dlrs. But, it said it would continue to be the exclusive\r",
      "\r\n",
      "worldwide licensee of the technology for Woodco.\r",
      "\r\n",
      "    The company said the moves were part of its reorganization\r",
      "\r\n",
      "plan and would help pay current operation costs and ensure\r",
      "\r\n",
      "product delivery.\r",
      "\r\n",
      "    Computer Terminal makes computer generated labels, forms,\r",
      "\r\n",
      "tags and ticket printers and terminals.\r",
      "\r\n",
      "\r"
     ]
    }
   ],
   "source": [
    "!cat data/training/acq/0000005"
   ]
  },
  {
   "cell_type": "markdown",
   "metadata": {},
   "source": [
    "## Dataset: CPU"
   ]
  },
  {
   "cell_type": "code",
   "execution_count": 6,
   "metadata": {},
   "outputs": [
    {
     "name": "stdout",
     "output_type": "stream",
     "text": [
      "0003746  0003797  0003816\r\n"
     ]
    }
   ],
   "source": [
    "!ls data/training/cpu"
   ]
  },
  {
   "cell_type": "markdown",
   "metadata": {},
   "source": [
    "## Buscar más Frecuentes"
   ]
  },
  {
   "cell_type": "code",
   "execution_count": 7,
   "metadata": {},
   "outputs": [
    {
     "data": {
      "text/plain": [
       "[['data/training/naphtha', '0004556'],\n",
       " ['data/training/naphtha', '0005167'],\n",
       " ['data/training/soybean', '0004358'],\n",
       " ['data/training/soybean', '0008468'],\n",
       " ['data/training/soybean', '0000885'],\n",
       " ['data/training/soybean', '0002152'],\n",
       " ['data/training/soybean', '0001505'],\n",
       " ['data/training/soybean', '0001131'],\n",
       " ['data/training/soybean', '0005250'],\n",
       " ['data/training/soybean', '0006770']]"
      ]
     },
     "execution_count": 7,
     "metadata": {},
     "output_type": "execute_result"
    }
   ],
   "source": [
    "import os\n",
    "trainingFiles = []\n",
    "for root, dirs, files in os.walk(\"data/training\"):\n",
    "    for file in files:\n",
    "        trainingFiles.append([root, file])\n",
    "        \n",
    "trainingFiles[0:10]"
   ]
  },
  {
   "cell_type": "markdown",
   "metadata": {},
   "source": [
    "## Agrupar"
   ]
  },
  {
   "cell_type": "code",
   "execution_count": 8,
   "metadata": {},
   "outputs": [],
   "source": [
    "import pandas as pd"
   ]
  },
  {
   "cell_type": "code",
   "execution_count": 9,
   "metadata": {},
   "outputs": [],
   "source": [
    "labels = ['root', 'file']\n",
    "df = pd.DataFrame.from_records(trainingFiles, columns=labels)"
   ]
  },
  {
   "cell_type": "code",
   "execution_count": 10,
   "metadata": {},
   "outputs": [
    {
     "data": {
      "text/html": [
       "<div>\n",
       "<style scoped>\n",
       "    .dataframe tbody tr th:only-of-type {\n",
       "        vertical-align: middle;\n",
       "    }\n",
       "\n",
       "    .dataframe tbody tr th {\n",
       "        vertical-align: top;\n",
       "    }\n",
       "\n",
       "    .dataframe thead th {\n",
       "        text-align: right;\n",
       "    }\n",
       "</style>\n",
       "<table border=\"1\" class=\"dataframe\">\n",
       "  <thead>\n",
       "    <tr style=\"text-align: right;\">\n",
       "      <th></th>\n",
       "      <th>root</th>\n",
       "      <th>file</th>\n",
       "    </tr>\n",
       "  </thead>\n",
       "  <tbody>\n",
       "    <tr>\n",
       "      <th>0</th>\n",
       "      <td>data/training/naphtha</td>\n",
       "      <td>0004556</td>\n",
       "    </tr>\n",
       "    <tr>\n",
       "      <th>1</th>\n",
       "      <td>data/training/naphtha</td>\n",
       "      <td>0005167</td>\n",
       "    </tr>\n",
       "    <tr>\n",
       "      <th>2</th>\n",
       "      <td>data/training/soybean</td>\n",
       "      <td>0004358</td>\n",
       "    </tr>\n",
       "    <tr>\n",
       "      <th>3</th>\n",
       "      <td>data/training/soybean</td>\n",
       "      <td>0008468</td>\n",
       "    </tr>\n",
       "    <tr>\n",
       "      <th>4</th>\n",
       "      <td>data/training/soybean</td>\n",
       "      <td>0000885</td>\n",
       "    </tr>\n",
       "    <tr>\n",
       "      <th>5</th>\n",
       "      <td>data/training/soybean</td>\n",
       "      <td>0002152</td>\n",
       "    </tr>\n",
       "    <tr>\n",
       "      <th>6</th>\n",
       "      <td>data/training/soybean</td>\n",
       "      <td>0001505</td>\n",
       "    </tr>\n",
       "    <tr>\n",
       "      <th>7</th>\n",
       "      <td>data/training/soybean</td>\n",
       "      <td>0001131</td>\n",
       "    </tr>\n",
       "    <tr>\n",
       "      <th>8</th>\n",
       "      <td>data/training/soybean</td>\n",
       "      <td>0005250</td>\n",
       "    </tr>\n",
       "    <tr>\n",
       "      <th>9</th>\n",
       "      <td>data/training/soybean</td>\n",
       "      <td>0006770</td>\n",
       "    </tr>\n",
       "  </tbody>\n",
       "</table>\n",
       "</div>"
      ],
      "text/plain": [
       "                    root     file\n",
       "0  data/training/naphtha  0004556\n",
       "1  data/training/naphtha  0005167\n",
       "2  data/training/soybean  0004358\n",
       "3  data/training/soybean  0008468\n",
       "4  data/training/soybean  0000885\n",
       "5  data/training/soybean  0002152\n",
       "6  data/training/soybean  0001505\n",
       "7  data/training/soybean  0001131\n",
       "8  data/training/soybean  0005250\n",
       "9  data/training/soybean  0006770"
      ]
     },
     "execution_count": 10,
     "metadata": {},
     "output_type": "execute_result"
    }
   ],
   "source": [
    "df[0:10]"
   ]
  },
  {
   "cell_type": "markdown",
   "metadata": {},
   "source": [
    "## Ordernar y sacar los 10\n",
    "Los 11 en realidad, porque hay una categoría unkwown"
   ]
  },
  {
   "cell_type": "code",
   "execution_count": 11,
   "metadata": {},
   "outputs": [
    {
     "data": {
      "text/html": [
       "<div>\n",
       "<style scoped>\n",
       "    .dataframe tbody tr th:only-of-type {\n",
       "        vertical-align: middle;\n",
       "    }\n",
       "\n",
       "    .dataframe tbody tr th {\n",
       "        vertical-align: top;\n",
       "    }\n",
       "\n",
       "    .dataframe thead th {\n",
       "        text-align: right;\n",
       "    }\n",
       "</style>\n",
       "<table border=\"1\" class=\"dataframe\">\n",
       "  <thead>\n",
       "    <tr style=\"text-align: right;\">\n",
       "      <th></th>\n",
       "      <th>file</th>\n",
       "    </tr>\n",
       "    <tr>\n",
       "      <th>root</th>\n",
       "      <th></th>\n",
       "    </tr>\n",
       "  </thead>\n",
       "  <tbody>\n",
       "    <tr>\n",
       "      <th>data/training/earn</th>\n",
       "      <td>2877</td>\n",
       "    </tr>\n",
       "    <tr>\n",
       "      <th>data/training/unknown</th>\n",
       "      <td>1830</td>\n",
       "    </tr>\n",
       "    <tr>\n",
       "      <th>data/training/acq</th>\n",
       "      <td>1650</td>\n",
       "    </tr>\n",
       "    <tr>\n",
       "      <th>data/training/money-fx</th>\n",
       "      <td>538</td>\n",
       "    </tr>\n",
       "    <tr>\n",
       "      <th>data/training/grain</th>\n",
       "      <td>433</td>\n",
       "    </tr>\n",
       "    <tr>\n",
       "      <th>data/training/crude</th>\n",
       "      <td>389</td>\n",
       "    </tr>\n",
       "    <tr>\n",
       "      <th>data/training/trade</th>\n",
       "      <td>369</td>\n",
       "    </tr>\n",
       "    <tr>\n",
       "      <th>data/training/interest</th>\n",
       "      <td>347</td>\n",
       "    </tr>\n",
       "    <tr>\n",
       "      <th>data/training/wheat</th>\n",
       "      <td>212</td>\n",
       "    </tr>\n",
       "    <tr>\n",
       "      <th>data/training/ship</th>\n",
       "      <td>197</td>\n",
       "    </tr>\n",
       "    <tr>\n",
       "      <th>data/training/corn</th>\n",
       "      <td>181</td>\n",
       "    </tr>\n",
       "  </tbody>\n",
       "</table>\n",
       "</div>"
      ],
      "text/plain": [
       "                        file\n",
       "root                        \n",
       "data/training/earn      2877\n",
       "data/training/unknown   1830\n",
       "data/training/acq       1650\n",
       "data/training/money-fx   538\n",
       "data/training/grain      433\n",
       "data/training/crude      389\n",
       "data/training/trade      369\n",
       "data/training/interest   347\n",
       "data/training/wheat      212\n",
       "data/training/ship       197\n",
       "data/training/corn       181"
      ]
     },
     "execution_count": 11,
     "metadata": {},
     "output_type": "execute_result"
    }
   ],
   "source": [
    "largest = df.groupby('root').count().nlargest(11, columns=\"file\")\n",
    "largest"
   ]
  },
  {
   "cell_type": "markdown",
   "metadata": {},
   "source": [
    "## Iterate trough values:"
   ]
  },
  {
   "cell_type": "code",
   "execution_count": 12,
   "metadata": {},
   "outputs": [
    {
     "name": "stdout",
     "output_type": "stream",
     "text": [
      "0 data/training/naphtha 0004556\n"
     ]
    }
   ],
   "source": [
    "for row in df.iterrows():\n",
    "    print(row[0], row[1][\"root\"], row[1][\"file\"])\n",
    "    break"
   ]
  },
  {
   "cell_type": "code",
   "execution_count": 13,
   "metadata": {},
   "outputs": [
    {
     "name": "stdout",
     "output_type": "stream",
     "text": [
      "data/training/earn 2877\n",
      "data/training/unknown 1830\n",
      "data/training/acq 1650\n",
      "data/training/money-fx 538\n",
      "data/training/grain 433\n",
      "data/training/crude 389\n",
      "data/training/trade 369\n",
      "data/training/interest 347\n",
      "data/training/wheat 212\n",
      "data/training/ship 197\n",
      "data/training/corn 181\n"
     ]
    }
   ],
   "source": [
    "for row in largest.iterrows():\n",
    "    print(row[0], row[1][\"file\"])"
   ]
  },
  {
   "cell_type": "markdown",
   "metadata": {},
   "source": [
    "## Refactor"
   ]
  },
  {
   "cell_type": "code",
   "execution_count": 14,
   "metadata": {},
   "outputs": [],
   "source": [
    "path = \"data/training\"\n",
    "def getAllFiles(path):\n",
    "    allFiles = []\n",
    "    for root, dirs, files in os.walk(path):\n",
    "        for file in files:\n",
    "            allFiles.append([root, file])\n",
    "            \n",
    "    return allFiles"
   ]
  },
  {
   "cell_type": "code",
   "execution_count": 20,
   "metadata": {},
   "outputs": [],
   "source": [
    "def getTop10Categories(files):\n",
    "    labels = ['root', 'file']\n",
    "    df = pd.DataFrame.from_records(files, columns=labels)\n",
    "    largest = df.groupby('root').count().nlargest(11, columns=\"file\")\n",
    "    return [[row[0], row[1][\"file\"]] for row in largest.iterrows() if \"unknown\" not in row[0]]"
   ]
  },
  {
   "cell_type": "code",
   "execution_count": 36,
   "metadata": {},
   "outputs": [],
   "source": [
    "def getFilesinFolders(folderList):\n",
    "    allFiles = []\n",
    "    for folder in folderList:\n",
    "        for root, dirs, files in os.walk(folder):\n",
    "            for file in files:\n",
    "                allFiles.append([root, file])\n",
    "            \n",
    "    return allFiles"
   ]
  },
  {
   "cell_type": "markdown",
   "metadata": {},
   "source": [
    "## Preview"
   ]
  },
  {
   "cell_type": "markdown",
   "metadata": {},
   "source": [
    "### All Files"
   ]
  },
  {
   "cell_type": "code",
   "execution_count": 17,
   "metadata": {},
   "outputs": [
    {
     "name": "stdout",
     "output_type": "stream",
     "text": [
      "11413\n",
      "['data/training/naphtha', '0004556']\n"
     ]
    }
   ],
   "source": [
    "trainingFiles = getAllFiles(\"data/training\")\n",
    "print(len(trainingFiles))\n",
    "print(trainingFiles[0])"
   ]
  },
  {
   "cell_type": "markdown",
   "metadata": {},
   "source": [
    "### Top 10 Categories"
   ]
  },
  {
   "cell_type": "code",
   "execution_count": 21,
   "metadata": {},
   "outputs": [
    {
     "name": "stdout",
     "output_type": "stream",
     "text": [
      "10\n",
      "['data/training/earn', 2877]\n"
     ]
    }
   ],
   "source": [
    "top10 = getTop10Categories(trainingFiles)\n",
    "print(len(top10))\n",
    "print(top10[0])"
   ]
  },
  {
   "cell_type": "markdown",
   "metadata": {},
   "source": [
    "### Top 10 Folders"
   ]
  },
  {
   "cell_type": "code",
   "execution_count": 33,
   "metadata": {},
   "outputs": [
    {
     "data": {
      "text/plain": [
       "['data/training/earn',\n",
       " 'data/training/acq',\n",
       " 'data/training/money-fx',\n",
       " 'data/training/grain',\n",
       " 'data/training/crude',\n",
       " 'data/training/trade',\n",
       " 'data/training/interest',\n",
       " 'data/training/wheat',\n",
       " 'data/training/ship',\n",
       " 'data/training/corn']"
      ]
     },
     "execution_count": 33,
     "metadata": {},
     "output_type": "execute_result"
    }
   ],
   "source": [
    "top10Folders = [f[0] for f in top10]\n",
    "top10Folders"
   ]
  },
  {
   "cell_type": "markdown",
   "metadata": {},
   "source": [
    "### Top 10 Files"
   ]
  },
  {
   "cell_type": "code",
   "execution_count": 56,
   "metadata": {},
   "outputs": [
    {
     "name": "stdout",
     "output_type": "stream",
     "text": [
      "7193\n",
      "data/training/earn 0006903\n",
      "data/training/earn 0001638\n",
      "data/training/earn 0000416\n",
      "data/training/earn 0003049\n",
      "data/training/earn 0001883\n",
      "data/training/earn 0006551\n",
      "data/training/acq 0004263\n",
      "data/training/acq 0007759\n",
      "data/training/acq 0005147\n",
      "data/training/acq 0004862\n",
      "data/training/money-fx 0007282\n",
      "data/training/crude 0005910\n",
      "data/training/trade 0003619\n",
      "data/training/interest 0000568\n",
      "data/training/ship 0009439\n"
     ]
    }
   ],
   "source": [
    "top10Files = getFilesinFolders(top10Folders)\n",
    "print(len(top10Files))\n",
    "print(\"\\n\".join([str(r[0])+ \" \" + str(r[1]) for r in top10Files[::500]]))"
   ]
  },
  {
   "cell_type": "markdown",
   "metadata": {},
   "source": [
    "### Check 'earn' Length"
   ]
  },
  {
   "cell_type": "code",
   "execution_count": 59,
   "metadata": {},
   "outputs": [
    {
     "data": {
      "text/plain": [
       "2877"
      ]
     },
     "execution_count": 59,
     "metadata": {},
     "output_type": "execute_result"
    }
   ],
   "source": [
    "earnList = [r for r in top10Files if \"earn\" in r[0]]\n",
    "len(earnList)"
   ]
  },
  {
   "cell_type": "markdown",
   "metadata": {},
   "source": [
    "# Eliminar signos de puntuación"
   ]
  },
  {
   "cell_type": "code",
   "execution_count": null,
   "metadata": {},
   "outputs": [],
   "source": [
    "testFile = os.path.join(trainingFiles[0][0], trainingFiles[0][1])\n",
    "testFile"
   ]
  },
  {
   "cell_type": "code",
   "execution_count": null,
   "metadata": {},
   "outputs": [],
   "source": [
    "testFileOpen = open(testFile, \"r\")\n",
    "testText = testFileOpen.read()\n",
    "testFileOpen.close()\n",
    "print(testText)"
   ]
  },
  {
   "cell_type": "markdown",
   "metadata": {},
   "source": [
    "## Fuerza bruta"
   ]
  },
  {
   "cell_type": "code",
   "execution_count": null,
   "metadata": {},
   "outputs": [],
   "source": [
    "puntuacion = [\",\", \".\", \";\", \":\", \"<\", \">\", \"-\"]"
   ]
  },
  {
   "cell_type": "code",
   "execution_count": null,
   "metadata": {},
   "outputs": [],
   "source": [
    "sinPuntos = testText\n",
    "\n",
    "for punto in puntuacion:\n",
    "    sinPuntos = sinPuntos.replace(punto, \"\")\n",
    "    \n",
    "print(sinPuntos)"
   ]
  },
  {
   "cell_type": "markdown",
   "metadata": {},
   "source": [
    "Problemas de este método:\n",
    "- Tener todos los signos de puntuación en el arreglo\n",
    "- Eficiencia"
   ]
  },
  {
   "cell_type": "markdown",
   "metadata": {},
   "source": [
    "## Expresiones regulares"
   ]
  },
  {
   "cell_type": "code",
   "execution_count": null,
   "metadata": {},
   "outputs": [],
   "source": [
    "import re, string"
   ]
  },
  {
   "cell_type": "code",
   "execution_count": null,
   "metadata": {},
   "outputs": [],
   "source": [
    "sinPuntos = testText\n",
    "\n",
    "regex = re.compile('[%s]' % re.escape(string.punctuation))\n",
    "sinPuntos =  regex.sub('', sin_puntos)\n",
    "    \n",
    "print(sinPuntos)"
   ]
  },
  {
   "cell_type": "markdown",
   "metadata": {},
   "source": [
    "## String Translate"
   ]
  },
  {
   "cell_type": "code",
   "execution_count": null,
   "metadata": {},
   "outputs": [],
   "source": [
    "string.punctuation"
   ]
  },
  {
   "cell_type": "code",
   "execution_count": null,
   "metadata": {},
   "outputs": [],
   "source": [
    "sinPuntos = testText\n",
    "sinPuntos = sinPuntos.translate(str.maketrans('','', string.punctuation))\n",
    "print(sinPuntos)"
   ]
  },
  {
   "cell_type": "markdown",
   "metadata": {},
   "source": [
    "## Comparación\n",
    "\n",
    "[Source](https://stackoverflow.com/questions/265960/best-way-to-strip-punctuation-from-a-string-in-python)\n",
    "\n",
    "```python\n",
    "replace   : 28.4436721802\n",
    "regex     : 6.86155414581\n",
    "translate : 2.12455511093\n",
    "```"
   ]
  },
  {
   "cell_type": "markdown",
   "metadata": {},
   "source": [
    "## Eliminar números"
   ]
  },
  {
   "cell_type": "code",
   "execution_count": null,
   "metadata": {},
   "outputs": [],
   "source": [
    "sinNumeros = re.sub('\\d', '', sinPuntos)\n",
    "print(sinNumeros)"
   ]
  },
  {
   "cell_type": "markdown",
   "metadata": {},
   "source": [
    "# Eliminar Stopwords\n",
    "\n",
    "Al igual que en el caso anterior, podríamos crear un arreglo y eliminar los stopwords. Una vez más, tendríamos que construir (o [descargar](https://github.com/stopwords-iso/stopwords-en)) un listado de estas.\n",
    "\n",
    "Para este caso, ocuparemos el [Natural Language Toolkit](http://www.nltk.org/) para hacer esto."
   ]
  },
  {
   "cell_type": "code",
   "execution_count": null,
   "metadata": {},
   "outputs": [],
   "source": [
    "from nltk.corpus import stopwords"
   ]
  },
  {
   "cell_type": "code",
   "execution_count": null,
   "metadata": {},
   "outputs": [],
   "source": [
    "stop = set(stopwords.words('english'))\n",
    "list(stop)[0:10]"
   ]
  },
  {
   "cell_type": "code",
   "execution_count": null,
   "metadata": {},
   "outputs": [],
   "source": [
    "sinStop = [i for i in sinNumeros.lower().split() if i not in stop]\n",
    "print(\" \".join(sinStop))"
   ]
  },
  {
   "cell_type": "markdown",
   "metadata": {},
   "source": [
    "# Tokenize"
   ]
  },
  {
   "cell_type": "code",
   "execution_count": null,
   "metadata": {},
   "outputs": [],
   "source": [
    "from nltk import word_tokenize\n",
    "import nltk\n",
    "nltk.download('punkt')"
   ]
  },
  {
   "cell_type": "code",
   "execution_count": null,
   "metadata": {},
   "outputs": [],
   "source": [
    "tokenized = [i for i in word_tokenize(sinNumeros.lower()) if i not in stop] "
   ]
  },
  {
   "cell_type": "code",
   "execution_count": null,
   "metadata": {},
   "outputs": [],
   "source": [
    "tokenized[0:20]"
   ]
  },
  {
   "cell_type": "markdown",
   "metadata": {},
   "source": [
    "# Stemming"
   ]
  },
  {
   "cell_type": "code",
   "execution_count": null,
   "metadata": {},
   "outputs": [],
   "source": [
    "from nltk.stem.porter import PorterStemmer\n",
    "porter = PorterStemmer()"
   ]
  },
  {
   "cell_type": "code",
   "execution_count": null,
   "metadata": {},
   "outputs": [],
   "source": [
    "porter = [porter.stem(i.lower()) for i in word_tokenize(sinNumeros) if i.lower() not in stop]"
   ]
  },
  {
   "cell_type": "code",
   "execution_count": null,
   "metadata": {},
   "outputs": [],
   "source": [
    "porter[0:20]"
   ]
  },
  {
   "cell_type": "markdown",
   "metadata": {},
   "source": [
    "# Tablas Term Frequency (TF)"
   ]
  },
  {
   "cell_type": "code",
   "execution_count": null,
   "metadata": {},
   "outputs": [],
   "source": [
    "from sklearn.feature_extraction.text import CountVectorizer"
   ]
  },
  {
   "cell_type": "code",
   "execution_count": null,
   "metadata": {},
   "outputs": [],
   "source": [
    "vectorizer = CountVectorizer()"
   ]
  },
  {
   "cell_type": "code",
   "execution_count": null,
   "metadata": {},
   "outputs": [],
   "source": []
  }
 ],
 "metadata": {
  "kernelspec": {
   "display_name": "Python 3",
   "language": "python",
   "name": "python3"
  },
  "language_info": {
   "codemirror_mode": {
    "name": "ipython",
    "version": 3
   },
   "file_extension": ".py",
   "mimetype": "text/x-python",
   "name": "python",
   "nbconvert_exporter": "python",
   "pygments_lexer": "ipython3",
   "version": "3.6.3"
  }
 },
 "nbformat": 4,
 "nbformat_minor": 2
}
